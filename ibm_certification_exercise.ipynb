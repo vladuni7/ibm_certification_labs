{
 "cells": [
  {
   "cell_type": "markdown",
   "metadata": {},
   "source": [
    "<center>\n",
    "    <img src=\"https://s3-api.us-geo.objectstorage.softlayer.net/cf-courses-data/CognitiveClass/Logos/organization_logo/organization_logo.png\" width=\"300\" alt=\"cognitiveclass.ai logo\"  />\n",
    "</center>\n"
   ]
  },
  {
   "cell_type": "markdown",
   "metadata": {},
   "source": [
    "#### Add your code below following the instructions given in the course\n"
   ]
  },
  {
   "cell_type": "markdown",
   "metadata": {},
   "source": [
    "# **My Jupyter Notebook on IBM Watson Studio**"
   ]
  },
  {
   "cell_type": "markdown",
   "metadata": {},
   "source": [
    "**Vladimir Campos** \n",
    "&nbsp;\n",
    "\n",
    "CEO Muju Singular"
   ]
  },
  {
   "cell_type": "markdown",
   "metadata": {},
   "source": [
    "*I am interested in data science because is a fascinating subject, I like the Sherlock Holmes role; and additionally because is well paid.*"
   ]
  },
  {
   "cell_type": "markdown",
   "metadata": {},
   "source": [
    "This code show you the date just now (UTC +0)"
   ]
  },
  {
   "cell_type": "code",
   "execution_count": 2,
   "metadata": {},
   "outputs": [
    {
     "name": "stdout",
     "output_type": "stream",
     "text": [
      "Today is  2022-09-30 01:08:01.573587 \n",
      "A good day to be happy!!\n"
     ]
    }
   ],
   "source": [
    "from datetime import datetime\n",
    "\n",
    "now = datetime.now()\n",
    "\n",
    "print(\"Today is \", now,\"\\nA good day to be happy!!\")"
   ]
  },
  {
   "cell_type": "markdown",
   "metadata": {},
   "source": [
    "### Additional information ###\n",
    "In the following table you can find some links of resources that we see in this course:\n",
    "\n",
    "| Item | Description & link |\n",
    "| ------ | ------ |\n",
    "| 1 | [Notebooks repository](\"https://github.com/jupyter/jupyter/wiki\") |\n",
    "| 2 | [Markdown Cheatsheet](\"https://github.com/adam-p/markdown-here/wiki/Markdown-Cheatsheet\") |\n",
    "| 3 | [Mining the social web](\"https://nbviewer.org/github/ptwobrussell/Mining-the-Social-Web-2nd-Edition/tree/master/ipynb/\") |\n",
    "\n",
    "\n",
    "\n",
    "![alt text](https://storage.googleapis.com/kaggle-forum-message-attachments/703594/14673/DATAAC.jpeg)\n"
   ]
  },
  {
   "cell_type": "code",
   "execution_count": null,
   "metadata": {},
   "outputs": [],
   "source": []
  }
 ],
 "metadata": {
  "kernelspec": {
   "display_name": "Python",
   "language": "python",
   "name": "conda-env-python-py"
  },
  "language_info": {
   "codemirror_mode": {
    "name": "ipython",
    "version": 3
   },
   "file_extension": ".py",
   "mimetype": "text/x-python",
   "name": "python",
   "nbconvert_exporter": "python",
   "pygments_lexer": "ipython3",
   "version": "3.7.12"
  }
 },
 "nbformat": 4,
 "nbformat_minor": 4
}
